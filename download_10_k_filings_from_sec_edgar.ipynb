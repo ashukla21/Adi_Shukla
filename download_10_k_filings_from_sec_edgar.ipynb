{
  "nbformat": 4,
  "nbformat_minor": 0,
  "metadata": {
    "colab": {
      "provenance": [],
      "toc_visible": true,
      "include_colab_link": true
    },
    "kernelspec": {
      "name": "python3",
      "display_name": "Python 3"
    },
    "language_info": {
      "name": "python"
    }
  },
  "cells": [
    {
      "cell_type": "markdown",
      "metadata": {
        "id": "view-in-github",
        "colab_type": "text"
      },
      "source": [
        "<a href=\"https://colab.research.google.com/github/ashukla21/Adi_Shukla/blob/master/download_10_k_filings_from_sec_edgar.ipynb\" target=\"_parent\"><img src=\"https://colab.research.google.com/assets/colab-badge.svg\" alt=\"Open In Colab\"/></a>"
      ]
    },
    {
      "cell_type": "markdown",
      "source": [
        "# How to download and scrape 10-K filings from SEC EDGAR\n",
        "\n",
        "This tutorial shows how to download and scrape 10-K filings from SEC EDGAR to your local disk. We use Python 3 and the SEC-API.io Python package to help us find the links to all 10-K filings on EDGAR and then download them.\n",
        "\n",
        "Our SEC filings download application will be structured into two components:\n",
        "1. The first component of our Python application finds all URLs of  10-K filings on EDGAR filed between 1995 and 2022. We also consider older 10-K variants, that is 10-KT, 10KSB, 10KT405, 10KSB40, 10-K405. Our application also includes all amended/changed filings, for example 10-K/A. Once we generated a complete list of all URLs of 10-K filings, we're going to save the list to a file to our hard disk.\n",
        "2. The second component reads the URLs from the file, and downloads all annual reports. We download up to 30 filings in parallel using the Render API of the SEC-API package and use Pythons multiprocessing package to speed up the download process."
      ],
      "metadata": {
        "id": "IHxXqQzUZXtn"
      }
    },
    {
      "cell_type": "markdown",
      "source": [
        "# Getting Started\n",
        "\n",
        "Let's starts by installing the SEC-API Python package.\n",
        "\n"
      ],
      "metadata": {
        "id": "tU1PVqjVcaS1"
      }
    },
    {
      "cell_type": "code",
      "execution_count": 2,
      "metadata": {
        "id": "gggSuJM1ZTYx",
        "outputId": "ef598fbc-5235-4748-8c0f-57120dfa4ed3",
        "colab": {
          "base_uri": "https://localhost:8080/"
        }
      },
      "outputs": [
        {
          "output_type": "stream",
          "name": "stdout",
          "text": [
            "Collecting sec-api\n",
            "  Downloading sec_api-1.0.18-py3-none-any.whl (17 kB)\n",
            "Requirement already satisfied: requests in /usr/local/lib/python3.10/dist-packages (from sec-api) (2.31.0)\n",
            "Requirement already satisfied: charset-normalizer<4,>=2 in /usr/local/lib/python3.10/dist-packages (from requests->sec-api) (3.3.2)\n",
            "Requirement already satisfied: idna<4,>=2.5 in /usr/local/lib/python3.10/dist-packages (from requests->sec-api) (3.7)\n",
            "Requirement already satisfied: urllib3<3,>=1.21.1 in /usr/local/lib/python3.10/dist-packages (from requests->sec-api) (2.0.7)\n",
            "Requirement already satisfied: certifi>=2017.4.17 in /usr/local/lib/python3.10/dist-packages (from requests->sec-api) (2024.2.2)\n",
            "Installing collected packages: sec-api\n",
            "Successfully installed sec-api-1.0.18\n"
          ]
        }
      ],
      "source": [
        "pip install sec-api"
      ]
    },
    {
      "cell_type": "markdown",
      "source": [
        "Head over to https://sec-api.io to get your free API key so that we can start searching the SEC EDGAR database for 10-K filings."
      ],
      "metadata": {
        "id": "-tSkdpSRtlx1"
      }
    },
    {
      "cell_type": "code",
      "source": [
        "from sec_api import QueryApi\n",
        "\n",
        "queryApi = QueryApi(api_key=\"a1a0a5028c73afc67b359a24bf5818fd5fde87cbcccb71511169a26948df7a31\")"
      ],
      "metadata": {
        "id": "dDualZwtcWlu"
      },
      "execution_count": 5,
      "outputs": []
    },
    {
      "cell_type": "markdown",
      "source": [
        "The Query API is a search interface allowing us to search and find SEC filings across the entire EDGAR database by any filing meta data parameter. For example, we can find all filings filed by Microsoft using a ticker search (ticker:MSFT) or build more complex search expressions using boolean and brackets operators. The Query API returns the meta data of SEC filings matching the search query, such as filer details (e.g. ticker and company name), URLs to the filing and all exhibits, filing date, form type and more.\n",
        "\n",
        "We're looking for all filings with form type 10-K and its variants: 10-KT, 10KSB, 10KT405, 10KSB40, 10-K405. So, the Query API form type filter comes in handy.\n",
        "\n",
        "The search query string looks like this:\n",
        "\n",
        "```txt\n",
        "formType:(\"10-K\", \"10-KT\", \"10KSB\", \"10KT405\", \"10KSB40\", \"10-K405\")\n",
        "```\n",
        "\n",
        "The brackets tell the Query API to include a filing in the response if the form type is either 10-K, or 10-KT, or 10KSB, and so on.\n",
        "\n",
        "Let's start off by finding the most recently filed 10-K filing."
      ],
      "metadata": {
        "id": "IPTpJCUudARc"
      }
    },
    {
      "cell_type": "code",
      "source": [
        "query = {\n",
        "  \"query\": { \"query_string\": {\n",
        "      \"query\": \"formType:\\\"10-K\\\" AND ticker:TSLA\", # only 10-Ks\n",
        "  }},\n",
        "  \"from\": \"0\", # start returning matches from position null, i.e. the first matching filing\n",
        "  \"size\": \"1\"  # return just one filing\n",
        "}\n",
        "\n",
        "response = queryApi.get_filings(query)"
      ],
      "metadata": {
        "id": "TZ0ljM4ac_kS"
      },
      "execution_count": 6,
      "outputs": []
    },
    {
      "cell_type": "markdown",
      "source": [
        "The response of the Query API package in Python represents a dictionary (short: dict) with two keys: `total` and `filings`.\n",
        "\n",
        "The value of `total` is a dict itself and tells us, among other things, how many filings in total match our search query. The value of `filings` is a list of dicts, where each dict represents all meta data of a matching filing.\n",
        "\n",
        "We use the `json` Python package to pretty-print the first filing to the console to explore the structure of a filing dict."
      ],
      "metadata": {
        "id": "hm59MbDUjAcw"
      }
    },
    {
      "cell_type": "code",
      "source": [
        "import json\n",
        "print(json.dumps(response[\"filings\"][0], indent=2))"
      ],
      "metadata": {
        "colab": {
          "base_uri": "https://localhost:8080/"
        },
        "id": "KUQ73wnhc8K2",
        "outputId": "907f0c7a-fe45-4aed-fc14-4f5147476a14"
      },
      "execution_count": 7,
      "outputs": [
        {
          "output_type": "stream",
          "name": "stdout",
          "text": [
            "{\n",
            "  \"id\": \"72ccf726af50ba95c163db42643b93ab\",\n",
            "  \"accessionNo\": \"0001628280-24-002390\",\n",
            "  \"cik\": \"1318605\",\n",
            "  \"ticker\": \"TSLA\",\n",
            "  \"companyName\": \"Tesla, Inc.\",\n",
            "  \"companyNameLong\": \"Tesla, Inc. (Filer)\",\n",
            "  \"formType\": \"10-K\",\n",
            "  \"description\": \"Form 10-K - Annual report [Section 13 and 15(d), not S-K Item 405]\",\n",
            "  \"filedAt\": \"2024-01-26T21:00:20-05:00\",\n",
            "  \"linkToTxt\": \"https://www.sec.gov/Archives/edgar/data/1318605/000162828024002390/0001628280-24-002390.txt\",\n",
            "  \"linkToHtml\": \"https://www.sec.gov/Archives/edgar/data/1318605/000162828024002390/0001628280-24-002390-index.htm\",\n",
            "  \"linkToXbrl\": \"\",\n",
            "  \"linkToFilingDetails\": \"https://www.sec.gov/Archives/edgar/data/1318605/000162828024002390/tsla-20231231.htm\",\n",
            "  \"entities\": [\n",
            "    {\n",
            "      \"companyName\": \"Tesla, Inc. (Filer)\",\n",
            "      \"cik\": \"1318605\",\n",
            "      \"irsNo\": \"912197729\",\n",
            "      \"stateOfIncorporation\": \"DE\",\n",
            "      \"fiscalYearEnd\": \"1231\",\n",
            "      \"type\": \"10-K\",\n",
            "      \"act\": \"34\",\n",
            "      \"fileNo\": \"001-34756\",\n",
            "      \"filmNo\": \"24569853\",\n",
            "      \"sic\": \"3711 Motor Vehicles &amp; Passenger Car Bodies\"\n",
            "    }\n",
            "  ],\n",
            "  \"documentFormatFiles\": [\n",
            "    {\n",
            "      \"sequence\": \"1\",\n",
            "      \"description\": \"10-K\",\n",
            "      \"documentUrl\": \"https://www.sec.gov/ix?doc=/Archives/edgar/data/1318605/000162828024002390/tsla-20231231.htm\",\n",
            "      \"type\": \"10-K\",\n",
            "      \"size\": \"2672746\"\n",
            "    },\n",
            "    {\n",
            "      \"sequence\": \"2\",\n",
            "      \"description\": \"EX-21.1\",\n",
            "      \"documentUrl\": \"https://www.sec.gov/Archives/edgar/data/1318605/000162828024002390/tsla-2023x12x31xex211.htm\",\n",
            "      \"type\": \"EX-21.1\",\n",
            "      \"size\": \"207611\"\n",
            "    },\n",
            "    {\n",
            "      \"sequence\": \"3\",\n",
            "      \"description\": \"EX-23.1\",\n",
            "      \"documentUrl\": \"https://www.sec.gov/Archives/edgar/data/1318605/000162828024002390/tsla-2023x12x31xex231.htm\",\n",
            "      \"type\": \"EX-23.1\",\n",
            "      \"size\": \"2127\"\n",
            "    },\n",
            "    {\n",
            "      \"sequence\": \"4\",\n",
            "      \"description\": \"EX-31.1\",\n",
            "      \"documentUrl\": \"https://www.sec.gov/Archives/edgar/data/1318605/000162828024002390/tsla-2023x12x31xex311.htm\",\n",
            "      \"type\": \"EX-31.1\",\n",
            "      \"size\": \"10235\"\n",
            "    },\n",
            "    {\n",
            "      \"sequence\": \"5\",\n",
            "      \"description\": \"EX-31.2\",\n",
            "      \"documentUrl\": \"https://www.sec.gov/Archives/edgar/data/1318605/000162828024002390/tsla-2023x12x31xex312.htm\",\n",
            "      \"type\": \"EX-31.2\",\n",
            "      \"size\": \"10251\"\n",
            "    },\n",
            "    {\n",
            "      \"sequence\": \"6\",\n",
            "      \"description\": \"EX-32.1\",\n",
            "      \"documentUrl\": \"https://www.sec.gov/Archives/edgar/data/1318605/000162828024002390/tsla-2023x12x31xex321.htm\",\n",
            "      \"type\": \"EX-32.1\",\n",
            "      \"size\": \"6503\"\n",
            "    },\n",
            "    {\n",
            "      \"sequence\": \"7\",\n",
            "      \"description\": \"EX-97\",\n",
            "      \"documentUrl\": \"https://www.sec.gov/Archives/edgar/data/1318605/000162828024002390/tsla-2023x12x31xex97.htm\",\n",
            "      \"type\": \"EX-97\",\n",
            "      \"size\": \"42406\"\n",
            "    },\n",
            "    {\n",
            "      \"sequence\": \"13\",\n",
            "      \"documentUrl\": \"https://www.sec.gov/Archives/edgar/data/1318605/000162828024002390/tsla-20231231_g1.jpg\",\n",
            "      \"type\": \"GRAPHIC\",\n",
            "      \"size\": \"208371\"\n",
            "    },\n",
            "    {\n",
            "      \"sequence\": \"\\u00a0\",\n",
            "      \"description\": \"Complete submission text file\",\n",
            "      \"documentUrl\": \"https://www.sec.gov/Archives/edgar/data/1318605/000162828024002390/0001628280-24-002390.txt\",\n",
            "      \"type\": \"\\u00a0\",\n",
            "      \"size\": \"15527801\"\n",
            "    }\n",
            "  ],\n",
            "  \"dataFiles\": [\n",
            "    {\n",
            "      \"sequence\": \"8\",\n",
            "      \"description\": \"XBRL TAXONOMY EXTENSION SCHEMA DOCUMENT\",\n",
            "      \"documentUrl\": \"https://www.sec.gov/Archives/edgar/data/1318605/000162828024002390/tsla-20231231.xsd\",\n",
            "      \"type\": \"EX-101.SCH\",\n",
            "      \"size\": \"104440\"\n",
            "    },\n",
            "    {\n",
            "      \"sequence\": \"9\",\n",
            "      \"description\": \"XBRL TAXONOMY EXTENSION CALCULATION LINKBASE DOCUMENT\",\n",
            "      \"documentUrl\": \"https://www.sec.gov/Archives/edgar/data/1318605/000162828024002390/tsla-20231231_cal.xml\",\n",
            "      \"type\": \"EX-101.CAL\",\n",
            "      \"size\": \"152663\"\n",
            "    },\n",
            "    {\n",
            "      \"sequence\": \"10\",\n",
            "      \"description\": \"XBRL TAXONOMY EXTENSION DEFINITION LINKBASE DOCUMENT\",\n",
            "      \"documentUrl\": \"https://www.sec.gov/Archives/edgar/data/1318605/000162828024002390/tsla-20231231_def.xml\",\n",
            "      \"type\": \"EX-101.DEF\",\n",
            "      \"size\": \"527730\"\n",
            "    },\n",
            "    {\n",
            "      \"sequence\": \"11\",\n",
            "      \"description\": \"XBRL TAXONOMY EXTENSION LABEL LINKBASE DOCUMENT\",\n",
            "      \"documentUrl\": \"https://www.sec.gov/Archives/edgar/data/1318605/000162828024002390/tsla-20231231_lab.xml\",\n",
            "      \"type\": \"EX-101.LAB\",\n",
            "      \"size\": \"1251968\"\n",
            "    },\n",
            "    {\n",
            "      \"sequence\": \"12\",\n",
            "      \"description\": \"XBRL TAXONOMY EXTENSION PRESENTATION LINKBASE DOCUMENT\",\n",
            "      \"documentUrl\": \"https://www.sec.gov/Archives/edgar/data/1318605/000162828024002390/tsla-20231231_pre.xml\",\n",
            "      \"type\": \"EX-101.PRE\",\n",
            "      \"size\": \"817348\"\n",
            "    },\n",
            "    {\n",
            "      \"sequence\": \"113\",\n",
            "      \"description\": \"EXTRACTED XBRL INSTANCE DOCUMENT\",\n",
            "      \"documentUrl\": \"https://www.sec.gov/Archives/edgar/data/1318605/000162828024002390/tsla-20231231_htm.xml\",\n",
            "      \"type\": \"XML\",\n",
            "      \"size\": \"2557362\"\n",
            "    }\n",
            "  ],\n",
            "  \"seriesAndClassesContractsInformation\": [],\n",
            "  \"periodOfReport\": \"2023-12-31\"\n",
            "}\n"
          ]
        }
      ]
    },
    {
      "cell_type": "markdown",
      "source": [
        "The URL of the 10-K filing is the value of the `linkToFilingDetails` key in each filing dict, for example:\n",
        "https://www.sec.gov/Archives/edgar/data/1318605/000119312514069681/d668062d10k.htm\n",
        "\n",
        "We see that information such as the filer ticker and CIK, company name, and all links and types of filing attachements (e.g. XBRL) is included as well. If you were to download, let's say, XBRL attachements of 10-K filings, you would be able to use the same approach we implement here.\n",
        "\n",
        "In order to for us to generate a complete list of 10-K URLs, we simply iterate over all filing dicts, read the `linkToFilingDetails` value and write the URL to a local file.\n",
        "\n",
        "One more thing: the Query API returns a maximum of 200 filings per search request and a maximum of 10,000 filings per search universe. That's why we paginate over the search results, i.e. we request the first \"page\" of matches with 200 filings, then the second \"page\", and so on, until we iterated through all filings filed between 1995 and 2022."
      ],
      "metadata": {
        "id": "vfV1UwW8lI9h"
      }
    },
    {
      "cell_type": "markdown",
      "source": [
        "# 1. Generate list of URLs of all 10-K filings\n",
        "\n",
        "This chapter implements the first of our two components and explains how to generate the list of 10-K URLs and save the list to a file.\n",
        "\n",
        "The following `base_query` is reused and updated for each request allowing us to page through all results in the next part of the code."
      ],
      "metadata": {
        "id": "Fv8ZjyY6tIC7"
      }
    },
    {
      "cell_type": "code",
      "source": [
        "base_query = {\n",
        "  \"query\": {\n",
        "      \"query_string\": {\n",
        "          \"query\": \"PLACEHOLDER\", # this will be set during runtime\n",
        "          \"time_zone\": \"America/New_York\"\n",
        "      }\n",
        "  },\n",
        "  \"from\": \"0\",\n",
        "  \"size\": \"200\", # dont change this\n",
        "  # sort returned filings by the filedAt key/value\n",
        "  \"sort\": [{ \"filedAt\": { \"order\": \"desc\" } }]\n",
        "}"
      ],
      "metadata": {
        "id": "LdvdWbahfFJ1"
      },
      "execution_count": 8,
      "outputs": []
    },
    {
      "cell_type": "markdown",
      "source": [
        "On each search request, the `PLACEHOLDER` in the `base_query` is replaced with our form type filter and with a date range filter. The complete Python code for downloading all URLs of filings filed between 1995 and 2022 is shown and explained below.\n",
        "\n",
        "> Be aware that it takes some time to download and save all URLs. Plan at least 30 minutes for running your application without interruption.\n",
        "\n",
        "The URL downloader appends a new URL to the log file `filing_urls.txt` on each processing iteration. In case you accidentally shut down your application, you can start off from the most recently processed year without having to download already processed URLs again.\n",
        "\n",
        "> Uncomment the two lines in your code if you want to generate all URLs at once. I deliberately uncommented them to provide a quick running example of the entire code without having to wait 30+ minutes to see results.\n",
        "- `for year in range(2021, 1994, -1):` and\n",
        "- `for from_batch in range(0, 9800, 200):`\n"
      ],
      "metadata": {
        "id": "3zNokIIgpfbl"
      }
    },
    {
      "cell_type": "code",
      "source": [
        "# open the file we use to store the filing URLs\n",
        "log_file = open(\"filing_urls.txt\", \"a\")\n",
        "\n",
        "# start with filings filed in 2022, then 2020, 2019, ... up to 1995\n",
        "# uncomment next line to fetch all filings filed from 2022-1995\n",
        "# for year in range(2021, 1994, -1):\n",
        "for year in range(2022, 2020, -1):\n",
        "  print(\"Starting download for year {year}\".format(year=year))\n",
        "\n",
        "  # a single search universe is represented as a month of the given year\n",
        "  for month in range(1, 13, 1):\n",
        "    # get 10-Q and 10-Q/A filings filed in year and month\n",
        "    # resulting query example: \"formType:\\\"10-Q\\\" AND filedAt:[2021-01-01 TO 2021-01-31]\"\n",
        "    universe_query = \\\n",
        "        \"formType:(\\\"10-K\\\", \\\"10-KT\\\", \\\"10KSB\\\", \\\"10KT405\\\", \\\"10KSB40\\\", \\\"10-K405\\\") AND \" + \\\n",
        "        \"filedAt:[{year}-{month:02d}-01 TO {year}-{month:02d}-31]\" \\\n",
        "        .format(year=year, month=month)\n",
        "\n",
        "    # set new query universe for year-month combination\n",
        "    base_query[\"query\"][\"query_string\"][\"query\"] = universe_query;\n",
        "\n",
        "    # paginate through results by increasing \"from\" parameter\n",
        "    # until we don't find any matches anymore\n",
        "    # uncomment next line to fetch all 10,000 filings\n",
        "    # for from_batch in range(0, 9800, 200):\n",
        "    for from_batch in range(0, 400, 200):\n",
        "      # set new \"from\" starting position of search\n",
        "      base_query[\"from\"] = from_batch;\n",
        "\n",
        "      response = queryApi.get_filings(base_query)\n",
        "\n",
        "      # no more filings in search universe\n",
        "      if len(response[\"filings\"]) == 0:\n",
        "        break;\n",
        "\n",
        "      # for each filing, only save the URL pointing to the filing itself\n",
        "      # and ignore all other data.\n",
        "      # the URL is set in the dict key \"linkToFilingDetails\"\n",
        "      urls_list = list(map(lambda x: x[\"linkToFilingDetails\"], response[\"filings\"]))\n",
        "\n",
        "      # transform list of URLs into one string by joining all list elements\n",
        "      # and add a new-line character between each element.\n",
        "      urls_string = \"\\n\".join(urls_list) + \"\\n\"\n",
        "\n",
        "      log_file.write(urls_string)\n",
        "\n",
        "    print(\"Filing URLs downloaded for {year}-{month:02d}\".format(year=year, month=month))\n",
        "\n",
        "log_file.close()\n",
        "\n",
        "print(\"All URLs downloaded\")"
      ],
      "metadata": {
        "colab": {
          "base_uri": "https://localhost:8080/"
        },
        "id": "JZkMHt9mpfx9",
        "outputId": "03557998-0c0a-42a8-c14f-e0ac55feb8f7"
      },
      "execution_count": 9,
      "outputs": [
        {
          "output_type": "stream",
          "name": "stdout",
          "text": [
            "Starting download for year 2022\n",
            "Filing URLs downloaded for 2022-01\n",
            "Filing URLs downloaded for 2022-02\n",
            "Filing URLs downloaded for 2022-03\n",
            "Filing URLs downloaded for 2022-04\n",
            "Filing URLs downloaded for 2022-05\n",
            "Filing URLs downloaded for 2022-06\n",
            "Filing URLs downloaded for 2022-07\n",
            "Filing URLs downloaded for 2022-08\n",
            "Filing URLs downloaded for 2022-09\n",
            "Filing URLs downloaded for 2022-10\n",
            "Filing URLs downloaded for 2022-11\n",
            "Filing URLs downloaded for 2022-12\n",
            "Starting download for year 2021\n",
            "Filing URLs downloaded for 2021-01\n",
            "Filing URLs downloaded for 2021-02\n",
            "Filing URLs downloaded for 2021-03\n",
            "Filing URLs downloaded for 2021-04\n",
            "Filing URLs downloaded for 2021-05\n",
            "Filing URLs downloaded for 2021-06\n",
            "Filing URLs downloaded for 2021-07\n",
            "Filing URLs downloaded for 2021-08\n",
            "Filing URLs downloaded for 2021-09\n",
            "Filing URLs downloaded for 2021-10\n",
            "Filing URLs downloaded for 2021-11\n",
            "Filing URLs downloaded for 2021-12\n",
            "All URLs downloaded\n"
          ]
        }
      ]
    },
    {
      "cell_type": "markdown",
      "source": [
        "# 2. Download all 10-Ks from SEC EDGAR\n",
        "\n",
        "The second component of our filing download application loads all 10-K URLs from our log file `filing_urls.txt` into memory, and downloads 20 filings in parallel into the folder `filings`.\n",
        "\n",
        "We use the Render API interface of the SEC-API Python package to download the filing by providing its URL. The Render API allows us to download up to 40 SEC filings per second in parallel. However, we don't utilize the full bandwidth of the API because otherwise it's very likely we end up with memory overflow exceptions (considering some filings are 400+ MB large).\n"
      ],
      "metadata": {
        "id": "OQoIe-xmz3Zz"
      }
    },
    {
      "cell_type": "code",
      "source": [
        "from sec_api import RenderApi\n",
        "\n",
        "renderApi = RenderApi(api_key=\"a1a0a5028c73afc67b359a24bf5818fd5fde87cbcccb71511169a26948df7a31\")"
      ],
      "metadata": {
        "id": "-AwzLW8w3_qx"
      },
      "execution_count": 10,
      "outputs": []
    },
    {
      "cell_type": "markdown",
      "source": [
        "The `download_filing` function downloads the filing from the URL, generates a file name using the last two parts of the URL and saves the downloaded file to the `filings` folder."
      ],
      "metadata": {
        "id": "Mm5T0gsFFJAF"
      }
    },
    {
      "cell_type": "code",
      "source": [
        "# download filing and save to \"filings\" folder\n",
        "def download_filing(url):\n",
        "  try:\n",
        "    filing = renderApi.get_filing(url)\n",
        "    # file_name example: 000156459019027952-msft-10k_20190630.htm\n",
        "    file_name = url.split(\"/\")[-2] + \"-\" + url.split(\"/\")[-1]\n",
        "    download_to = \"./filings/\" + file_name\n",
        "    with open(download_to, \"w\") as f:\n",
        "      f.write(filing)\n",
        "  except Exception as e:\n",
        "    print(\"Problem with {url}\".format(url=url))\n",
        "    print(e)"
      ],
      "metadata": {
        "id": "AoKnv7v0quXI"
      },
      "execution_count": 11,
      "outputs": []
    },
    {
      "cell_type": "markdown",
      "source": [
        "The `load_urls` function reads the text content from the previously generated `filing_urls.txt` file, and creates a list of URLs by splitting the text content at each new line character (\"\\n\")."
      ],
      "metadata": {
        "id": "sG6tmqJeFaDJ"
      }
    },
    {
      "cell_type": "code",
      "source": [
        "# load URLs from log file\n",
        "def load_urls():\n",
        "  log_file = open(\"filing_urls.txt\", \"r\")\n",
        "  urls = log_file.read().split(\"\\n\") # convert long string of URLs into a list\n",
        "  log_file.close()\n",
        "  return urls"
      ],
      "metadata": {
        "id": "8gVYvxZa6DkG"
      },
      "execution_count": 12,
      "outputs": []
    },
    {
      "cell_type": "markdown",
      "source": [
        "The `download_all_filings` is the heart and soul of our application. Here, Python's inbuilt `multiprocessing.Pool` method allows us to apply a function to a list of values multiple times in parallel. This way we can apply the `download_filing` function to values of the `urls` list in parallel.\n",
        "\n",
        "For example, setting `number_of_processes` to 4 results in 4 `download_filing` functions running in parallel where each function processes one URL. Once a download is completed, `multiprocessing.Pool` gets the next URL from the URLs list and calls `download_filing` with the new URL.\n",
        "\n",
        "> We used 40 URLs (`urls = load_urls()[1:40]`) to quickly test the code without having to wait hours for the download to complete. Uncomment the line below to process all URLs.\n",
        "- `urls = load_urls()`\n",
        "\n"
      ],
      "metadata": {
        "id": "c2Cupje3D97W"
      }
    },
    {
      "cell_type": "code",
      "source": [
        "import os\n",
        "import multiprocessing\n",
        "\n",
        "def download_all_filings():\n",
        "  print(\"Start downloading all filings\")\n",
        "\n",
        "  download_folder = \"./filings\"\n",
        "  if not os.path.isdir(download_folder):\n",
        "    os.makedirs(download_folder)\n",
        "\n",
        "  # uncomment next line to process all URLs\n",
        "  # urls = load_urls()\n",
        "  urls = load_urls()[0:40]\n",
        "  print(\"{length} filing URLs loaded\".format(length=len(urls)))\n",
        "\n",
        "  number_of_processes = 20\n",
        "\n",
        "  with multiprocessing.Pool(number_of_processes) as pool:\n",
        "    pool.map(download_filing, urls)\n",
        "\n",
        "  print(\"All filings downloaded\")"
      ],
      "metadata": {
        "id": "hh3OWmnj47S9"
      },
      "execution_count": 13,
      "outputs": []
    },
    {
      "cell_type": "code",
      "source": [
        "download_all_filings()"
      ],
      "metadata": {
        "colab": {
          "base_uri": "https://localhost:8080/"
        },
        "id": "YIaVEJ6e7oMV",
        "outputId": "589d8160-d658-4f32-c9f4-e60185267c5c"
      },
      "execution_count": 14,
      "outputs": [
        {
          "output_type": "stream",
          "name": "stdout",
          "text": [
            "Start downloading all filings\n",
            "40 filing URLs loaded\n",
            "Problem with https://www.sec.gov/Archives/edgar/data/1181749/000155837022000635/gfe-20211031x10k.htm\n",
            "API error: 429 - Request quota exceeded\n",
            "Problem with https://www.sec.gov/Archives/edgar/data/728447/000095017022000602/evoa-20201231.htm\n",
            "API error: 429 - Request quota exceeded\n",
            "Problem with https://www.sec.gov/Archives/edgar/data/1832505/000121390022004524/f10k2021_european.htm\n",
            "API error: 429 - Request quota exceeded\n",
            "Problem with https://www.sec.gov/Archives/edgar/data/1100397/000149315222002766/formnt10-k.htm\n",
            "API error: 429 - Request quota exceeded\n",
            "Problem with https://www.sec.gov/Archives/edgar/data/1694688/000164033422000218/xpl_nt10k.htmProblem with https://www.sec.gov/Archives/edgar/data/1557376/000182912622002166/organicell_nt10k.htm\n",
            "\n",
            "Problem with https://www.sec.gov/Archives/edgar/data/1551887/000139390522000029/dusyf_nt10k.htmProblem with https://www.sec.gov/Archives/edgar/data/1692981/000169298122000002/form12b25.htmProblem with https://www.sec.gov/Archives/edgar/data/1869974/000149315222002707/form10-k.htmAPI error: 429 - Request quota exceededProblem with https://www.sec.gov/Archives/edgar/data/1828326/000119312522023432/d445631d10ka.htmProblem with https://www.sec.gov/Archives/edgar/data/1007019/000149315222002765/form10-k.htmAPI error: 429 - Request quota exceeded\n",
            "Problem with https://www.sec.gov/Archives/edgar/data/1540615/000157570522000076/puge_12b25.htmProblem with https://www.sec.gov/Archives/edgar/data/1624517/000168316822000568/yuengling_i10k-103121.htm\n",
            "\n",
            "\n",
            "\n",
            "\n",
            "\n",
            "API error: 429 - Request quota exceededAPI error: 429 - Request quota exceededProblem with https://www.sec.gov/Archives/edgar/data/1035443/000103544322000040/are-20211231.htm\n",
            "\n",
            "API error: 429 - Request quota exceededAPI error: 429 - Request quota exceededAPI error: 429 - Request quota exceeded\n",
            "API error: 429 - Request quota exceeded\n",
            "\n",
            "Problem with https://www.sec.gov/Archives/edgar/data/12927/000001292722000010/ba-20211231.htmAPI error: 429 - Request quota exceeded\n",
            "API error: 429 - Request quota exceeded\n",
            "\n",
            "Problem with https://www.sec.gov/Archives/edgar/data/93556/000009355622000004/swk-20210102.htm\n",
            "\n",
            "\n",
            "\n",
            "Problem with https://www.sec.gov/Archives/edgar/data/1509786/000147793222000506/guskin_10k.htm\n",
            "API error: 429 - Request quota exceededProblem with https://www.sec.gov/Archives/edgar/data/96223/000009622322000006/jef-20211130.htmProblem with https://www.sec.gov/Archives/edgar/data/1814215/000110465922009084/twnd-20211231x10ka.htmProblem with https://www.sec.gov/Archives/edgar/data/1839990/000110465922009075/arteu-20211231x10k.htm\n",
            "API error: 429 - Request quota exceeded\n",
            "\n",
            "\n",
            "\n",
            "API error: 429 - Request quota exceeded\n",
            "API error: 429 - Request quota exceededAPI error: 429 - Request quota exceeded\n",
            "API error: 429 - Request quota exceeded\n",
            "\n",
            "\n",
            "Problem with https://www.sec.gov/Archives/edgar/data/1801762/000149315222002559/formnt10-k.htm\n",
            "API error: 429 - Request quota exceeded\n",
            "Problem with https://www.sec.gov/Archives/edgar/data/1260221/000126022122000004/tdg-20210930.htm\n",
            "\n",
            "API error: 429 - Request quota exceededProblem with https://www.sec.gov/Archives/edgar/data/920760/000162828022001450/len-20211130.htm\n",
            "API error: 429 - Request quota exceeded\n",
            "Problem with https://www.sec.gov/Archives/edgar/data/1177394/000156459022003003/snx-10k_20211130.htm\n",
            "API error: 429 - Request quota exceeded\n",
            "Problem with https://www.sec.gov/Archives/edgar/data/1549595/000156459022003007/nrix-10k_20211130.htm\n",
            "API error: 429 - Request quota exceeded\n",
            "Problem with https://www.sec.gov/Archives/edgar/data/4127/000000412722000002/swks-20211001.htm\n",
            "API error: 429 - Request quota exceeded\n",
            "Problem with https://www.sec.gov/Archives/edgar/data/1793330/000121390022004241/f10k2021_dongfangcity.htm\n",
            "API error: 429 - Request quota exceeded\n",
            "Problem with https://www.sec.gov/Archives/edgar/data/1084580/000108458022000006/jef-20211130.htm\n",
            "API error: 429 - Request quota exceeded\n",
            "Problem with https://www.sec.gov/Archives/edgar/data/36840/000117494722000082/form10k-27201_frevs.htm\n",
            "API error: 429 - Request quota exceeded\n",
            "Problem with https://www.sec.gov/Archives/edgar/data/1490349/000121390022004242/f10k2021a1_phenixfincorp.htm\n",
            "API error: 429 - Request quota exceededProblem with https://www.sec.gov/Archives/edgar/data/1350420/000162828022001439/lwenergy-20210930.htmProblem with https://www.sec.gov/Archives/edgar/data/1627554/000101738622000039/pedro_2021oct31-nt10k.htm\n",
            "\n",
            "API error: 429 - Request quota exceededProblem with https://www.sec.gov/Archives/edgar/data/744452/000141057822000063/apdn-20210930x10ka.htm\n",
            "API error: 429 - Request quota exceeded\n",
            "\n",
            "\n",
            "API error: 429 - Request quota exceeded\n",
            "Problem with https://www.sec.gov/Archives/edgar/data/1424404/000106299322001764/form10ka.htm\n",
            "API error: 429 - Request quota exceeded\n",
            "All filings downloaded\n"
          ]
        }
      ]
    }
  ]
}